{
 "cells": [
  {
   "cell_type": "code",
   "execution_count": 194,
   "metadata": {},
   "outputs": [],
   "source": [
    "import pandas as pd\n",
    "import numpy as np\n",
    "import csv\n",
    "import string\n",
    "import streamlit as st\n",
    "import mysql.connector"
   ]
  },
  {
   "cell_type": "code",
   "execution_count": 195,
   "metadata": {},
   "outputs": [],
   "source": [
    "# calculate the consumption_pp level deviation\n",
    "def consumption_pp_level_deviation(merchant):\n",
    "    Total = 0\n",
    "    Count = 0\n",
    "    consumption_pp = merchant['consumption_pp']\n",
    "    consumption_pp = consumption_pp.fillna(0)\n",
    "    for i in range(consumption_pp.shape[0]):\n",
    "        if consumption_pp[i] != 0:\n",
    "            consumption_pp[i] = int(consumption_pp[i][4:])\n",
    "    for num in consumption_pp:\n",
    "        Count += 1\n",
    "        Total += num\n",
    "    Average = Total / Count\n",
    "    return Average\n",
    "\n",
    "def recalculate_cpp(merchant):\n",
    "    deviation = []\n",
    "    average = consumption_pp_level_deviation(merchant)\n",
    "    consumption_pp = merchant['consumption_pp']\n",
    "    consumption_pp = consumption_pp.fillna(0)\n",
    "    for i in range(merchant.shape[0]):\n",
    "        if consumption_pp[i] != 0:\n",
    "            cpp_i = int(consumption_pp[i][4:])\n",
    "        else:\n",
    "            cpp_i = int(consumption_pp[i])\n",
    "        d = (cpp_i - average) / average\n",
    "        d = round(d,4)\n",
    "        deviation.append(d)\n",
    "    return deviation"
   ]
  },
  {
   "cell_type": "code",
   "execution_count": 196,
   "metadata": {},
   "outputs": [],
   "source": [
    "def Bayesranking(merchant):\n",
    "    rank = []\n",
    "    N = 0 #number of all the ratings\n",
    "    R = 0 #average of all the rating\n",
    "    Count = 0\n",
    "    num_comment = merchant['number_comment']\n",
    "    num_comment = num_comment.fillna(0)\n",
    "    for i in range(num_comment.shape[0]):\n",
    "        num_comment[i] = num_comment[i][2:]\n",
    "        if num_comment[i][-1] == '+':\n",
    "            num_comment[i] = (num_comment[i][:-1])\n",
    "            num_comment[i] = int(num_comment[i])\n",
    "            N += num_comment[i]\n",
    "        else:\n",
    "            num_comment[i] = int(num_comment[i])\n",
    "    r = merchant['rank']\n",
    "    for num in r:\n",
    "        R += num\n",
    "        Count += 1\n",
    "    R /= Count\n",
    "    len = merchant.shape[0]\n",
    "    for i in range(len):\n",
    "        t_rank = int(merchant['rank'][i])\n",
    "        n_i = num_comment[i]\n",
    "        numerator = N*R + t_rank*n_i\n",
    "        denominator = N + n_i\n",
    "        rank_i = numerator / denominator\n",
    "        rank_i = round(rank_i,4)\n",
    "        rank.append(rank_i)\n",
    "    return rank\n"
   ]
  },
  {
   "cell_type": "code",
   "execution_count": 202,
   "metadata": {},
   "outputs": [
    {
     "data": {
      "text/plain": [
       "40"
      ]
     },
     "execution_count": 202,
     "metadata": {},
     "output_type": "execute_result"
    }
   ],
   "source": [
    "filename = ['bbq','breakfast','fried_rice','fried_chicken','hotpot','milk_tea','rice_roll','supper']\n",
    "address = 'dataset/' + 'bbq' + '.csv'\n",
    "file = pd.read_csv(address)\n",
    "file.shape[0]\n"
   ]
  },
  {
   "cell_type": "code",
   "execution_count": 203,
   "metadata": {},
   "outputs": [],
   "source": [
    "filename = ['bbq','breakfast','fried_rice','fried_chicken','hotpot','milk_tea','rice_roll','supper']\n",
    "for i in filename:\n",
    "    address = 'dataset/' + i + '.csv'\n",
    "    file_name = i + '_ready.csv'\n",
    "    file_to_read = pd.read_csv(address)\n",
    "    Bayes_rank_name = Bayesranking(file_to_read)\n",
    "    Cpp_deviation = recalculate_cpp(file_to_read)\n",
    "    consumption_pp = file_to_read['consumption_pp']\n",
    "    consumption_pp = consumption_pp.fillna(0)\n",
    "    for i in range(consumption_pp.shape[0]):\n",
    "        if consumption_pp[i] != 0:\n",
    "            consumption_pp[i] = int(consumption_pp[i][4:])\n",
    "    distance = file_to_read['distance']\n",
    "    distance = distance.fillna(0)\n",
    "    for i in range(distance.shape[0]):\n",
    "        distance[i] = (distance[i][:-2])\n",
    "    with open(file_name,'w',newline='') as file:\n",
    "        writer = csv.writer(file)\n",
    "        writer.writerow([\"m_id\",\"distance\",\"consumption_pp\",\"bayesranking\",\"number_discounts \",\"consumption_pp_deviation\"])\n",
    "        for i in range(file_to_read.shape[0]):\n",
    "            writer.writerow([i,distance[i],consumption_pp[i],Bayes_rank_name[i],file_to_read['number_disounts'][i],Cpp_deviation[i]])\n",
    "\n",
    "    "
   ]
  },
  {
   "cell_type": "code",
   "execution_count": null,
   "metadata": {},
   "outputs": [],
   "source": []
  }
 ],
 "metadata": {
  "kernelspec": {
   "display_name": "Python 3",
   "language": "python",
   "name": "python3"
  },
  "language_info": {
   "codemirror_mode": {
    "name": "ipython",
    "version": 3
   },
   "file_extension": ".py",
   "mimetype": "text/x-python",
   "name": "python",
   "nbconvert_exporter": "python",
   "pygments_lexer": "ipython3",
   "version": "3.9.1"
  },
  "orig_nbformat": 4
 },
 "nbformat": 4,
 "nbformat_minor": 2
}
