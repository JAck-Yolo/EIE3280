{
 "cells": [
  {
   "cell_type": "code",
   "execution_count": 2,
   "metadata": {},
   "outputs": [],
   "source": [
    "import pandas as pd\n",
    "import numpy as np\n",
    "import string\n",
    "import streamlit as st\n",
    "import mysql.connector"
   ]
  },
  {
   "cell_type": "code",
   "execution_count": 3,
   "metadata": {},
   "outputs": [
    {
     "data": {
      "text/html": [
       "<div>\n",
       "<style scoped>\n",
       "    .dataframe tbody tr th:only-of-type {\n",
       "        vertical-align: middle;\n",
       "    }\n",
       "\n",
       "    .dataframe tbody tr th {\n",
       "        vertical-align: top;\n",
       "    }\n",
       "\n",
       "    .dataframe thead th {\n",
       "        text-align: right;\n",
       "    }\n",
       "</style>\n",
       "<table border=\"1\" class=\"dataframe\">\n",
       "  <thead>\n",
       "    <tr style=\"text-align: right;\">\n",
       "      <th></th>\n",
       "      <th>m_id</th>\n",
       "      <th>m_name</th>\n",
       "      <th>m_province</th>\n",
       "      <th>m_street</th>\n",
       "      <th>comsuption_pp</th>\n",
       "      <th>flavor_rank</th>\n",
       "      <th>packaging_rank</th>\n",
       "      <th>number_comments</th>\n",
       "      <th>number_discount</th>\n",
       "    </tr>\n",
       "  </thead>\n",
       "  <tbody>\n",
       "    <tr>\n",
       "      <th>0</th>\n",
       "      <td>1096261612256400</td>\n",
       "      <td>周记汕头牛肉店（牛肉粿条）</td>\n",
       "      <td>广东</td>\n",
       "      <td>深圳市龙岗区园山街道荷坳路57号综合市场B04</td>\n",
       "      <td>32</td>\n",
       "      <td>4.5</td>\n",
       "      <td>4.5</td>\n",
       "      <td>1102</td>\n",
       "      <td>3</td>\n",
       "    </tr>\n",
       "    <tr>\n",
       "      <th>1</th>\n",
       "      <td>1023212808498940</td>\n",
       "      <td>八合里牛肉火锅（天光城店）</td>\n",
       "      <td>广东</td>\n",
       "      <td>深圳市龙岗区龙城街道爱联社区龙岗大道1099号龙岗天光城2-L-003、004</td>\n",
       "      <td>31</td>\n",
       "      <td>4.5</td>\n",
       "      <td>4.6</td>\n",
       "      <td>328</td>\n",
       "      <td>2</td>\n",
       "    </tr>\n",
       "  </tbody>\n",
       "</table>\n",
       "</div>"
      ],
      "text/plain": [
       "               m_id         m_name m_province  \\\n",
       "0  1096261612256400  周记汕头牛肉店（牛肉粿条）         广东   \n",
       "1  1023212808498940  八合里牛肉火锅（天光城店）         广东   \n",
       "\n",
       "                                  m_street  comsuption_pp  flavor_rank  \\\n",
       "0                  深圳市龙岗区园山街道荷坳路57号综合市场B04             32          4.5   \n",
       "1  深圳市龙岗区龙城街道爱联社区龙岗大道1099号龙岗天光城2-L-003、004             31          4.5   \n",
       "\n",
       "   packaging_rank  number_comments  number_discount  \n",
       "0             4.5             1102                3  \n",
       "1             4.6              328                2  "
      ]
     },
     "execution_count": 3,
     "metadata": {},
     "output_type": "execute_result"
    }
   ],
   "source": [
    "merchant = pd.read_csv(r'dataset/merchant_demo.csv')\n",
    "merchant"
   ]
  },
  {
   "cell_type": "code",
   "execution_count": null,
   "metadata": {},
   "outputs": [],
   "source": [
    "'''CREATE TABLE merchant ---商家\n",
    "(M_ID   INT,\n",
    "M_NAME VARCHAR(20),\n",
    "M_PROVINCE VARCHAR(25),\n",
    "M_STREET_ADDRESS VARCHAR(40),\n",
    "COMSUPTION_PP INT, ---人均消费\n",
    "FLAVOR_RANK DEC(1,1), ---口味评分\n",
    "PACKAGING_RANK DEC(1,1), ---包装评分\n",
    "NUMBER_COMMENTS INT,---评论数\n",
    "NUMBER_DISCOUNT INT,---套餐数量\n",
    "PRIMARY KEY(M_ID));'''\n",
    "# 用户输入一个关键词，通过关键词的检索和content－base算法返回优先队列\n"
   ]
  },
  {
   "cell_type": "code",
   "execution_count": null,
   "metadata": {},
   "outputs": [],
   "source": []
  }
 ],
 "metadata": {
  "kernelspec": {
   "display_name": "Python 3",
   "language": "python",
   "name": "python3"
  },
  "language_info": {
   "codemirror_mode": {
    "name": "ipython",
    "version": 3
   },
   "file_extension": ".py",
   "mimetype": "text/x-python",
   "name": "python",
   "nbconvert_exporter": "python",
   "pygments_lexer": "ipython3",
   "version": "3.9.1"
  },
  "orig_nbformat": 4
 },
 "nbformat": 4,
 "nbformat_minor": 2
}
