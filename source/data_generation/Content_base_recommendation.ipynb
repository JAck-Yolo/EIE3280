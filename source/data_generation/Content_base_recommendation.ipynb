{
 "cells": [
  {
   "cell_type": "code",
   "execution_count": 1,
   "metadata": {},
   "outputs": [],
   "source": [
    "import pandas as pd\n",
    "import numpy as np\n",
    "import string\n",
    "import streamlit as st\n",
    "import mysql.connector"
   ]
  },
  {
   "cell_type": "code",
   "execution_count": 2,
   "metadata": {},
   "outputs": [
    {
     "data": {
      "text/html": [
       "<div>\n",
       "<style scoped>\n",
       "    .dataframe tbody tr th:only-of-type {\n",
       "        vertical-align: middle;\n",
       "    }\n",
       "\n",
       "    .dataframe tbody tr th {\n",
       "        vertical-align: top;\n",
       "    }\n",
       "\n",
       "    .dataframe thead th {\n",
       "        text-align: right;\n",
       "    }\n",
       "</style>\n",
       "<table border=\"1\" class=\"dataframe\">\n",
       "  <thead>\n",
       "    <tr style=\"text-align: right;\">\n",
       "      <th></th>\n",
       "      <th>m_id</th>\n",
       "      <th>m_tag</th>\n",
       "      <th>m_name</th>\n",
       "      <th>m_province</th>\n",
       "      <th>m_street</th>\n",
       "      <th>comsuption_pp</th>\n",
       "      <th>flavor_rank</th>\n",
       "      <th>packaging_rank</th>\n",
       "      <th>number_comments</th>\n",
       "      <th>number_discount</th>\n",
       "    </tr>\n",
       "  </thead>\n",
       "  <tbody>\n",
       "    <tr>\n",
       "      <th>0</th>\n",
       "      <td>1096261612256400</td>\n",
       "      <td>1</td>\n",
       "      <td>周记汕头牛肉店（牛肉粿条）</td>\n",
       "      <td>广东</td>\n",
       "      <td>深圳市龙岗区园山街道荷坳路57号综合市场B04</td>\n",
       "      <td>32</td>\n",
       "      <td>4.5</td>\n",
       "      <td>4.5</td>\n",
       "      <td>1102</td>\n",
       "      <td>3</td>\n",
       "    </tr>\n",
       "    <tr>\n",
       "      <th>1</th>\n",
       "      <td>1023212808498940</td>\n",
       "      <td>1</td>\n",
       "      <td>八合里牛肉火锅（天光城店）</td>\n",
       "      <td>广东</td>\n",
       "      <td>深圳市龙岗区龙城街道爱联社区龙岗大道1099号龙岗天光城2-L-003、004</td>\n",
       "      <td>31</td>\n",
       "      <td>4.5</td>\n",
       "      <td>4.6</td>\n",
       "      <td>328</td>\n",
       "      <td>2</td>\n",
       "    </tr>\n",
       "    <tr>\n",
       "      <th>2</th>\n",
       "      <td>1118062866235140</td>\n",
       "      <td>1</td>\n",
       "      <td>港湾火锅到家</td>\n",
       "      <td>广东</td>\n",
       "      <td>深圳市龙岗区龙城街道盛平社区盛丰路</td>\n",
       "      <td>67</td>\n",
       "      <td>4.8</td>\n",
       "      <td>4.9</td>\n",
       "      <td>222</td>\n",
       "      <td>4</td>\n",
       "    </tr>\n",
       "    <tr>\n",
       "      <th>3</th>\n",
       "      <td>1094938762285890</td>\n",
       "      <td>1</td>\n",
       "      <td>杨国福麻辣烫（昌盛百货店）</td>\n",
       "      <td>广东</td>\n",
       "      <td>深圳市龙岗区龙城街道爱联社区大道2001号浩天昌盛百货1楼B1商铺</td>\n",
       "      <td>26</td>\n",
       "      <td>4.6</td>\n",
       "      <td>4.7</td>\n",
       "      <td>7368</td>\n",
       "      <td>4</td>\n",
       "    </tr>\n",
       "    <tr>\n",
       "      <th>4</th>\n",
       "      <td>862525197024773</td>\n",
       "      <td>1</td>\n",
       "      <td>容川火·毛肚·肥肠煲(龙岗总店)</td>\n",
       "      <td>广东</td>\n",
       "      <td>深圳市龙岗区龙城街道爱联社区锦苑路6号104</td>\n",
       "      <td>45</td>\n",
       "      <td>4.5</td>\n",
       "      <td>4.7</td>\n",
       "      <td>2564</td>\n",
       "      <td>5</td>\n",
       "    </tr>\n",
       "  </tbody>\n",
       "</table>\n",
       "</div>"
      ],
      "text/plain": [
       "               m_id  m_tag            m_name m_province  \\\n",
       "0  1096261612256400      1     周记汕头牛肉店（牛肉粿条）         广东   \n",
       "1  1023212808498940      1     八合里牛肉火锅（天光城店）         广东   \n",
       "2  1118062866235140      1            港湾火锅到家         广东   \n",
       "3  1094938762285890      1     杨国福麻辣烫（昌盛百货店）         广东   \n",
       "4   862525197024773      1  容川火·毛肚·肥肠煲(龙岗总店)         广东   \n",
       "\n",
       "                                  m_street  comsuption_pp  flavor_rank  \\\n",
       "0                  深圳市龙岗区园山街道荷坳路57号综合市场B04             32          4.5   \n",
       "1  深圳市龙岗区龙城街道爱联社区龙岗大道1099号龙岗天光城2-L-003、004             31          4.5   \n",
       "2                        深圳市龙岗区龙城街道盛平社区盛丰路             67          4.8   \n",
       "3        深圳市龙岗区龙城街道爱联社区大道2001号浩天昌盛百货1楼B1商铺             26          4.6   \n",
       "4                   深圳市龙岗区龙城街道爱联社区锦苑路6号104             45          4.5   \n",
       "\n",
       "   packaging_rank  number_comments  number_discount  \n",
       "0             4.5             1102                3  \n",
       "1             4.6              328                2  \n",
       "2             4.9              222                4  \n",
       "3             4.7             7368                4  \n",
       "4             4.7             2564                5  "
      ]
     },
     "execution_count": 2,
     "metadata": {},
     "output_type": "execute_result"
    }
   ],
   "source": [
    "merchant = pd.read_csv(r'dataset/merchant_demo.csv')\n",
    "merchant"
   ]
  },
  {
   "cell_type": "code",
   "execution_count": 19,
   "metadata": {},
   "outputs": [
    {
     "data": {
      "text/plain": [
       "4.5"
      ]
     },
     "execution_count": 19,
     "metadata": {},
     "output_type": "execute_result"
    }
   ],
   "source": [
    "merchant['flavor_rank'][0]"
   ]
  },
  {
   "cell_type": "code",
   "execution_count": 3,
   "metadata": {},
   "outputs": [
    {
     "data": {
      "text/plain": [
       "[32, 31, 67, 26, 45]"
      ]
     },
     "execution_count": 3,
     "metadata": {},
     "output_type": "execute_result"
    }
   ],
   "source": [
    "comsuption_pp = merchant['comsuption_pp'].tolist()\n",
    "comsuption_pp"
   ]
  },
  {
   "cell_type": "code",
   "execution_count": 11,
   "metadata": {},
   "outputs": [
    {
     "ename": "AttributeError",
     "evalue": "'DataFrame' object has no attribute 'length'",
     "output_type": "error",
     "traceback": [
      "\u001b[1;31m---------------------------------------------------------------------------\u001b[0m",
      "\u001b[1;31mAttributeError\u001b[0m                            Traceback (most recent call last)",
      "\u001b[1;32mc:\\Users\\H-X-J\\Desktop\\EIE3280\\3280_project\\EIE3280\\source\\data_generation\\Content_base_recommendation.ipynb Cell 4\u001b[0m in \u001b[0;36m1\n\u001b[1;32m----> <a href='vscode-notebook-cell:/c%3A/Users/H-X-J/Desktop/EIE3280/3280_project/EIE3280/source/data_generation/Content_base_recommendation.ipynb#X10sZmlsZQ%3D%3D?line=0'>1</a>\u001b[0m merchant\u001b[39m.\u001b[39;49mlength()\n",
      "File \u001b[1;32mc:\\Users\\H-X-J\\AppData\\Local\\Programs\\Python\\Python39\\lib\\site-packages\\pandas\\core\\generic.py:5902\u001b[0m, in \u001b[0;36mNDFrame.__getattr__\u001b[1;34m(self, name)\u001b[0m\n\u001b[0;32m   5895\u001b[0m \u001b[39mif\u001b[39;00m (\n\u001b[0;32m   5896\u001b[0m     name \u001b[39mnot\u001b[39;00m \u001b[39min\u001b[39;00m \u001b[39mself\u001b[39m\u001b[39m.\u001b[39m_internal_names_set\n\u001b[0;32m   5897\u001b[0m     \u001b[39mand\u001b[39;00m name \u001b[39mnot\u001b[39;00m \u001b[39min\u001b[39;00m \u001b[39mself\u001b[39m\u001b[39m.\u001b[39m_metadata\n\u001b[0;32m   5898\u001b[0m     \u001b[39mand\u001b[39;00m name \u001b[39mnot\u001b[39;00m \u001b[39min\u001b[39;00m \u001b[39mself\u001b[39m\u001b[39m.\u001b[39m_accessors\n\u001b[0;32m   5899\u001b[0m     \u001b[39mand\u001b[39;00m \u001b[39mself\u001b[39m\u001b[39m.\u001b[39m_info_axis\u001b[39m.\u001b[39m_can_hold_identifiers_and_holds_name(name)\n\u001b[0;32m   5900\u001b[0m ):\n\u001b[0;32m   5901\u001b[0m     \u001b[39mreturn\u001b[39;00m \u001b[39mself\u001b[39m[name]\n\u001b[1;32m-> 5902\u001b[0m \u001b[39mreturn\u001b[39;00m \u001b[39mobject\u001b[39;49m\u001b[39m.\u001b[39;49m\u001b[39m__getattribute__\u001b[39;49m(\u001b[39mself\u001b[39;49m, name)\n",
      "\u001b[1;31mAttributeError\u001b[0m: 'DataFrame' object has no attribute 'length'"
     ]
    }
   ],
   "source": [
    "merchant.length()"
   ]
  },
  {
   "cell_type": "code",
   "execution_count": 6,
   "metadata": {},
   "outputs": [
    {
     "data": {
      "text/plain": [
       "40.2"
      ]
     },
     "execution_count": 6,
     "metadata": {},
     "output_type": "execute_result"
    }
   ],
   "source": [
    "# calculate the consumption level deviation\n",
    "def consumption_level_deviation(merchant):\n",
    "    Total = 0\n",
    "    Count = 0\n",
    "    comsuption_pp = merchant['comsuption_pp'].tolist()\n",
    "    for num in comsuption_pp:\n",
    "        Count += 1\n",
    "        Total += num\n",
    "    Average = Total / Count\n",
    "    return Average\n",
    "consumption_level_deviation(merchant)\n"
   ]
  },
  {
   "cell_type": "code",
   "execution_count": 31,
   "metadata": {},
   "outputs": [
    {
     "name": "stdout",
     "output_type": "stream",
     "text": [
      "4\n"
     ]
    },
    {
     "data": {
      "text/plain": [
       "[1, 2, 3, 4, 1.1]"
      ]
     },
     "execution_count": 31,
     "metadata": {},
     "output_type": "execute_result"
    }
   ],
   "source": [
    "a = [1,2,3,4]\n",
    "a.append(1.1)\n",
    "a"
   ]
  },
  {
   "cell_type": "code",
   "execution_count": 43,
   "metadata": {},
   "outputs": [
    {
     "name": "stdout",
     "output_type": "stream",
     "text": [
      "4.5730506069683114\n",
      "4.5777971793149765\n",
      "4.58413687955277\n",
      "4.587775432672013\n",
      "4.565501837715578\n"
     ]
    },
    {
     "ename": "TypeError",
     "evalue": "'int' object is not callable",
     "output_type": "error",
     "traceback": [
      "\u001b[1;31m---------------------------------------------------------------------------\u001b[0m",
      "\u001b[1;31mTypeError\u001b[0m                                 Traceback (most recent call last)",
      "\u001b[1;32mc:\\Users\\H-X-J\\Desktop\\EIE3280\\3280_project\\EIE3280\\source\\data_generation\\Content_base_recommendation.ipynb Cell 8\u001b[0m in \u001b[0;36m2\n\u001b[0;32m     <a href='vscode-notebook-cell:/c%3A/Users/H-X-J/Desktop/EIE3280/3280_project/EIE3280/source/data_generation/Content_base_recommendation.ipynb#W6sZmlsZQ%3D%3D?line=24'>25</a>\u001b[0m     \u001b[39mfor\u001b[39;00m j \u001b[39min\u001b[39;00m \u001b[39mrange\u001b[39m(list_len):\n\u001b[0;32m     <a href='vscode-notebook-cell:/c%3A/Users/H-X-J/Desktop/EIE3280/3280_project/EIE3280/source/data_generation/Content_base_recommendation.ipynb#W6sZmlsZQ%3D%3D?line=25'>26</a>\u001b[0m         \u001b[39mprint\u001b[39m(rank[j])\n\u001b[1;32m---> <a href='vscode-notebook-cell:/c%3A/Users/H-X-J/Desktop/EIE3280/3280_project/EIE3280/source/data_generation/Content_base_recommendation.ipynb#W6sZmlsZQ%3D%3D?line=26'>27</a>\u001b[0m Bayesranking(merchant)\n",
      "\u001b[1;32mc:\\Users\\H-X-J\\Desktop\\EIE3280\\3280_project\\EIE3280\\source\\data_generation\\Content_base_recommendation.ipynb Cell 8\u001b[0m in \u001b[0;36m2\n\u001b[0;32m     <a href='vscode-notebook-cell:/c%3A/Users/H-X-J/Desktop/EIE3280/3280_project/EIE3280/source/data_generation/Content_base_recommendation.ipynb#W6sZmlsZQ%3D%3D?line=21'>22</a>\u001b[0m     rank\u001b[39m.\u001b[39mappend(rank_i)\n\u001b[0;32m     <a href='vscode-notebook-cell:/c%3A/Users/H-X-J/Desktop/EIE3280/3280_project/EIE3280/source/data_generation/Content_base_recommendation.ipynb#W6sZmlsZQ%3D%3D?line=22'>23</a>\u001b[0m \u001b[39m# print(rank[0])\u001b[39;00m\n\u001b[1;32m---> <a href='vscode-notebook-cell:/c%3A/Users/H-X-J/Desktop/EIE3280/3280_project/EIE3280/source/data_generation/Content_base_recommendation.ipynb#W6sZmlsZQ%3D%3D?line=23'>24</a>\u001b[0m list_len \u001b[39m=\u001b[39m \u001b[39mlen\u001b[39;49m(rank)\n\u001b[0;32m     <a href='vscode-notebook-cell:/c%3A/Users/H-X-J/Desktop/EIE3280/3280_project/EIE3280/source/data_generation/Content_base_recommendation.ipynb#W6sZmlsZQ%3D%3D?line=24'>25</a>\u001b[0m \u001b[39mfor\u001b[39;00m j \u001b[39min\u001b[39;00m \u001b[39mrange\u001b[39m(list_len):\n\u001b[0;32m     <a href='vscode-notebook-cell:/c%3A/Users/H-X-J/Desktop/EIE3280/3280_project/EIE3280/source/data_generation/Content_base_recommendation.ipynb#W6sZmlsZQ%3D%3D?line=25'>26</a>\u001b[0m     \u001b[39mprint\u001b[39m(rank[j])\n",
      "\u001b[1;31mTypeError\u001b[0m: 'int' object is not callable"
     ]
    }
   ],
   "source": [
    "def Bayesranking(merchant):\n",
    "    rank = []\n",
    "    N = 0 #number of all the ratings\n",
    "    R = 0 #average of all the rating\n",
    "    Count = 0\n",
    "    number_comments = merchant['number_comments'].tolist()\n",
    "    for num in number_comments:\n",
    "        N += num\n",
    "    flavor_rank = merchant['flavor_rank'].tolist()\n",
    "    for num in flavor_rank:\n",
    "        R += num\n",
    "        Count += 1\n",
    "    R /= Count\n",
    "    len = merchant.shape[0]\n",
    "    for i in range(len):\n",
    "        f_rank = merchant['flavor_rank'][i]\n",
    "        n_i = merchant['number_comments'][i]\n",
    "        numerator = N*R + f_rank*n_i\n",
    "        denominator = N + n_i\n",
    "        rank_i = numerator / denominator\n",
    "        print(rank_i)\n",
    "        rank.append(rank_i)\n",
    "    # print(rank[0])\n",
    "    list_len = len(rank)\n",
    "    for j in range(list_len):\n",
    "        print(rank[j])\n",
    "Bayesranking(merchant)\n"
   ]
  },
  {
   "cell_type": "code",
   "execution_count": null,
   "metadata": {},
   "outputs": [],
   "source": [
    "'''CREATE TABLE merchant ---商家\n",
    "(M_ID   INT,\n",
    "M_NAME VARCHAR(20),\n",
    "M_PROVINCE VARCHAR(25),\n",
    "M_STREET_ADDRESS VARCHAR(40),\n",
    "COMSUPTION_PP INT, ---人均消费\n",
    "FLAVOR_RANK DEC(1,1), ---口味评分\n",
    "PACKAGING_RANK DEC(1,1), ---包装评分\n",
    "NUMBER_COMMENTS INT,---评论数\n",
    "NUMBER_DISCOUNT INT,---套餐数量\n",
    "PRIMARY KEY(M_ID));'''\n",
    "# 用户输入一个关键词，通过关键词的检索和content－base算法返回优先队列\n"
   ]
  },
  {
   "cell_type": "code",
   "execution_count": null,
   "metadata": {},
   "outputs": [],
   "source": []
  }
 ],
 "metadata": {
  "kernelspec": {
   "display_name": "Python 3",
   "language": "python",
   "name": "python3"
  },
  "language_info": {
   "codemirror_mode": {
    "name": "ipython",
    "version": 3
   },
   "file_extension": ".py",
   "mimetype": "text/x-python",
   "name": "python",
   "nbconvert_exporter": "python",
   "pygments_lexer": "ipython3",
   "version": "3.9.1"
  },
  "orig_nbformat": 4
 },
 "nbformat": 4,
 "nbformat_minor": 2
}
